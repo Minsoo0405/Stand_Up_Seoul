{
 "cells": [
  {
   "attachments": {},
   "cell_type": "markdown",
   "metadata": {},
   "source": [
    "### 검증 1. 파일 개수 일치"
   ]
  },
  {
   "cell_type": "code",
   "execution_count": 94,
   "metadata": {},
   "outputs": [
    {
     "name": "stdout",
     "output_type": "stream",
     "text": [
      "폴더의 파일 개수와, 데이터프레임의 파일 개수가 일치합니다\n"
     ]
    }
   ],
   "source": [
    "import os\n",
    "import pandas as pd\n",
    "\n",
    "folder_path = './images'\n",
    "file_names = os.listdir(folder_path)\n",
    "\n",
    "df = pd.read_csv('./data/지하철역별맛집정보최종.csv')\n",
    "if len(df[~df['file_name'].isna()]) == len(file_names):\n",
    "    print('폴더의 파일 개수와, 데이터프레임의 파일 개수가 일치합니다')"
   ]
  },
  {
   "attachments": {},
   "cell_type": "markdown",
   "metadata": {},
   "source": [
    "### 검증2. 파일명 검증"
   ]
  },
  {
   "cell_type": "code",
   "execution_count": 100,
   "metadata": {},
   "outputs": [
    {
     "name": "stdout",
     "output_type": "stream",
     "text": [
      "폴더의 파일명과, 데이터프레임의 파일명이 일치합니다.\n",
      "6215\n"
     ]
    }
   ],
   "source": [
    "if len(file_names) == len(df[df['file_name'].isin(file_names)]):\n",
    "    print('폴더의 파일명과, 데이터프레임의 파일명이 일치합니다.')\n",
    "    print(len(file_names))"
   ]
  },
  {
   "cell_type": "code",
   "execution_count": 101,
   "metadata": {},
   "outputs": [
    {
     "data": {
      "text/plain": [
       "183"
      ]
     },
     "execution_count": 101,
     "metadata": {},
     "output_type": "execute_result"
    }
   ],
   "source": [
    "len(df[df['file_name'].isna()])"
   ]
  },
  {
   "cell_type": "code",
   "execution_count": null,
   "metadata": {},
   "outputs": [],
   "source": []
  }
 ],
 "metadata": {
  "kernelspec": {
   "display_name": "crawl",
   "language": "python",
   "name": "python3"
  },
  "language_info": {
   "codemirror_mode": {
    "name": "ipython",
    "version": 3
   },
   "file_extension": ".py",
   "mimetype": "text/x-python",
   "name": "python",
   "nbconvert_exporter": "python",
   "pygments_lexer": "ipython3",
   "version": "3.8.16"
  },
  "orig_nbformat": 4
 },
 "nbformat": 4,
 "nbformat_minor": 2
}
