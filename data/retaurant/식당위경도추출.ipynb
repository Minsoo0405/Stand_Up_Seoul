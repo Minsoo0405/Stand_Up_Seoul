{
 "cells": [
  {
   "attachments": {},
   "cell_type": "markdown",
   "metadata": {},
   "source": [
    "# DB 데이터 추출"
   ]
  },
  {
   "cell_type": "code",
   "execution_count": 12,
   "metadata": {},
   "outputs": [],
   "source": [
    "from plugins import db_connector\n",
    "import pandas as pd\n",
    "\n",
    "conn, cursor = db_connector.mysql()\n",
    "cursor.execute('select * from restaurant;')\n",
    "df = pd.DataFrame(cursor.fetchall())\n",
    "df = df[[0,1,2,3]]\n",
    "df[3] = df[3].str.split(' ').str[:4].str.join(' ')"
   ]
  },
  {
   "attachments": {},
   "cell_type": "markdown",
   "metadata": {},
   "source": [
    "# 위경도 데이터 추출"
   ]
  },
  {
   "cell_type": "code",
   "execution_count": null,
   "metadata": {},
   "outputs": [],
   "source": [
    "import json\n",
    "import requests\n",
    "\n",
    "api_key = 'aec8af9f13176cd0b2a600a395e57953'\n",
    "def addr_to_lat_lon(addr):\n",
    "    url = 'https://dapi.kakao.com/v2/local/search/address.json?query={address}'.format(address=addr)\n",
    "    headers = {\"Authorization\": \"KakaoAK \" + api_key}\n",
    "    result = json.loads(str(requests.get(url, headers=headers).text))\n",
    "    match_first = result['documents'][0]['address']\n",
    "    return float(match_first['x']), float(match_first['y'])\n",
    "\n",
    "for idx in df.index:\n",
    "    try:\n",
    "        id = df.loc[idx, 0]\n",
    "        mapx, mapy = addr_to_lat_lon(df.loc[idx,3])\n",
    "        df.loc[idx, 'mapx'] = mapx\n",
    "        df.loc[idx, 'mapy'] = mapy\n",
    "    except:\n",
    "        df.loc[idx, 'mapx'] = None\n",
    "        df.loc[idx, 'mapy'] = None\n",
    "        pass\n",
    "    \n",
    "df.to_csv('./data/레스토랑위치정보.csv', index = False, encoding = 'utf-8-sig')"
   ]
  },
  {
   "attachments": {},
   "cell_type": "markdown",
   "metadata": {},
   "source": [
    "# DB 업데이트"
   ]
  },
  {
   "cell_type": "code",
   "execution_count": 29,
   "metadata": {},
   "outputs": [],
   "source": [
    "cursor.execute('BEGIN;')\n",
    "try:\n",
    "    for idx in df.index:\n",
    "        id = df.loc[idx, 0]\n",
    "        mapx = df.loc[idx, 'mapx'] \n",
    "        mapy = df.loc[idx, 'mapy']\n",
    "        sql = f'UPDATE restaurant SET mapx = {mapx}, mapy = {mapy} WHERE id = {id};'\n",
    "        cursor.execute(sql)\n",
    "    cursor.execute('COMMIT;')\n",
    "except Exception as e:\n",
    "    print(e)\n",
    "    cursor.execute('ROLLBACK;')\n",
    "    raise"
   ]
  },
  {
   "attachments": {},
   "cell_type": "markdown",
   "metadata": {},
   "source": [
    "# NULL 값 삭제"
   ]
  },
  {
   "cell_type": "code",
   "execution_count": 35,
   "metadata": {},
   "outputs": [],
   "source": [
    "# df.to_csv('./data/레스토랑위치정보.csv', index = False, encoding = 'utf-8-sig')\n",
    "df = pd.read_csv('C:/Stand_Up_Seoul/data/retaurant/data/레스토랑위치정보.csv')\n",
    "df = df[df['mapx'].isnull()]\n",
    "\n",
    "cursor.execute('BEGIN;')\n",
    "try:\n",
    "    for idx in df.index:\n",
    "        id = df.loc[idx, '0']\n",
    "        # mapx = df.loc[idx, 'mapx'] \n",
    "        # mapy = df.loc[idx, 'mapy']\n",
    "        sql = f'DELETE FROM restaurant WHERE id = {id};'\n",
    "        cursor.execute(sql)\n",
    "    cursor.execute('COMMIT;')\n",
    "except Exception as e:\n",
    "    print(e)\n",
    "    cursor.execute('ROLLBACK;')\n",
    "    raise\n"
   ]
  }
 ],
 "metadata": {
  "kernelspec": {
   "display_name": "spotify",
   "language": "python",
   "name": "python3"
  },
  "language_info": {
   "codemirror_mode": {
    "name": "ipython",
    "version": 3
   },
   "file_extension": ".py",
   "mimetype": "text/x-python",
   "name": "python",
   "nbconvert_exporter": "python",
   "pygments_lexer": "ipython3",
   "version": "3.8.16"
  },
  "orig_nbformat": 4
 },
 "nbformat": 4,
 "nbformat_minor": 2
}
