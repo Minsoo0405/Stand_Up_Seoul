{
 "cells": [
  {
   "cell_type": "code",
   "execution_count": null,
   "metadata": {},
   "outputs": [],
   "source": [
    "import requests\n",
    "import json\n",
    "import pprint\n",
    "\n",
    "url = 'http://3.39.156.163:8000/predict'\n",
    "\n",
    "data = {\n",
    "    \"user_id\": \"sangwook1224\",\n",
    "    \"area_nm\": \"여의도\",\n",
    "    \"year\": 2023,\n",
    "    \"month\": 6,\n",
    "    \"day\": 26,\n",
    "    'hour' : 15\n",
    "}\n",
    "\n",
    "# JSON 형식으로 변환\n",
    "payload = json.dumps(data)\n",
    "\n",
    "# POST 요청 보내기\n",
    "response = requests.post(url, data=payload)\n",
    "\n",
    "# 응답 결과 확인\n",
    "if response.status_code == 200:\n",
    "    result = response.json()\n",
    "    pprint.pprint(result)\n",
    "else:\n",
    "    print(\"API 요청에 실패했습니다.\")"
   ]
  },
  {
   "cell_type": "code",
   "execution_count": null,
   "metadata": {},
   "outputs": [],
   "source": [
    "import requests\n",
    "import json\n",
    "\n",
    "for i in range(5,24):\n",
    "    url = 'http://3.39.156.163:8000/predict'\n",
    "\n",
    "    data = {\n",
    "        \"user_id\": \"sangwook1224\",\n",
    "        \"area_nm\": \"동대문 관광특구\",\n",
    "        \"year\": 2023,\n",
    "        \"month\": 6,\n",
    "        \"day\": 26,\n",
    "        \"hour\": i\n",
    "    }\n",
    "\n",
    "    # JSON 형식으로 변환\n",
    "    payload = json.dumps(data)\n",
    "\n",
    "    # POST 요청 보내기\n",
    "    response = requests.post(url, data=payload)\n",
    "\n",
    "    # 응답 결과 확인\n",
    "    if response.status_code == 200:\n",
    "        result = response.json()\n",
    "        print(i, result)\n",
    "    else:\n",
    "        print(\"API 요청에 실패했습니다.\")"
   ]
  },
  {
   "cell_type": "code",
   "execution_count": null,
   "metadata": {},
   "outputs": [],
   "source": []
  }
 ],
 "metadata": {
  "kernelspec": {
   "display_name": "spotify",
   "language": "python",
   "name": "python3"
  },
  "language_info": {
   "codemirror_mode": {
    "name": "ipython",
    "version": 3
   },
   "file_extension": ".py",
   "mimetype": "text/x-python",
   "name": "python",
   "nbconvert_exporter": "python",
   "pygments_lexer": "ipython3",
   "version": "3.8.16"
  },
  "orig_nbformat": 4
 },
 "nbformat": 4,
 "nbformat_minor": 2
}
