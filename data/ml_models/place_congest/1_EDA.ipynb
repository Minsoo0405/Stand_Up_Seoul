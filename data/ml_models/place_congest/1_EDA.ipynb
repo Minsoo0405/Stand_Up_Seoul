{
 "cells": [
  {
   "attachments": {},
   "cell_type": "markdown",
   "metadata": {},
   "source": [
    "## 사용함수 정의"
   ]
  },
  {
   "cell_type": "code",
   "execution_count": null,
   "metadata": {},
   "outputs": [],
   "source": [
    "from statsmodels.stats.outliers_influence import variance_inflation_factor\n",
    "from sqlalchemy import create_engine\n",
    "from datetime import datetime\n",
    "import os\n",
    "import warnings\n",
    "import joblib\n",
    "import numpy as np\n",
    "import pandas as pd\n",
    "import matplotlib.pyplot as plt\n",
    "import lightgbm as lgb\n",
    "import boto3\n",
    "import seaborn as sns\n",
    "from plugins import connector\n",
    "\n",
    "warnings.filterwarnings('ignore')\n",
    "\n",
    "\n",
    "    \n",
    "def extract_data(cur, sql):\n",
    "    cur.execute(sql)\n",
    "    columns = [desc[0] for desc in cur.description]\n",
    "    results = cur.fetchall()\n",
    "    print(f'{len(results)}행 추출 완료')\n",
    "    df = pd.DataFrame(results)\n",
    "    df.columns = columns\n",
    "    print('데이터프레임 생성 완료')\n",
    "    return df"
   ]
  },
  {
   "cell_type": "code",
   "execution_count": null,
   "metadata": {},
   "outputs": [],
   "source": [
    "conn, cur = connector.redshift_connector()\n",
    "\n",
    "# sql 수정 후에 사용해도 좋음\n",
    "# 내가 생각하기에 쓸모 없다고 생각하는 데이터는 뺐음\n",
    "sql = '''\n",
    "    SELECT\n",
    "        P.place_id,\n",
    "        P.area_congest_id,\n",
    "        P.area_ppltn_min,\n",
    "        P.area_ppltn_max,\n",
    "        W.temp,\n",
    "        W.sensible_temp,\n",
    "        W.humidity,\n",
    "        W.wind_dirct,\n",
    "        W.wind_spd,\n",
    "        W.precipitation,\n",
    "        W.uv_index_lvl,\n",
    "        W.pm25,\n",
    "        W.pm10,\n",
    "        W.air_idx_mvl,\n",
    "        W.created_date,\n",
    "        DATE_PART('year', W.created_date) AS year,\n",
    "        DATE_PART('month', W.created_date) AS month,\n",
    "        DATE_PART('day', W.created_date) AS day,\n",
    "        DATE_PART('hour', W.created_date) AS hour,\n",
    "        DATE_PART('minute', W.created_date) AS minute,\n",
    "        EXTRACT(DOW FROM W.created_date) AS dow\n",
    "    FROM\n",
    "        \"raw\".\"population\" AS P\n",
    "    JOIN\n",
    "        \"raw\".\"weather\" AS W ON P.place_id = W.place_id AND P.created_date = W.created_date;\n",
    "    '''\n",
    "    \n",
    "df = extract_data(cur, sql)\n",
    "df.info()"
   ]
  },
  {
   "attachments": {},
   "cell_type": "markdown",
   "metadata": {},
   "source": [
    "## 예측에 사용할 수 없는 변수 삭제\n",
    "- 데이터가 한정되어 있어, year, month는 일년동안 데이터를 쌓지 않는 이상 제대로 된 변수로 사용될 수 없을 것 같아 drop 하였습니다.\n",
    "- area_ppltn_min, area_ppltn_max, sensible_temp, uv_index_lvl, pm25, pm10, air_idx_mvl 컬럼은 예측 시점의 데이터를 가져오는 것이 불가능하기에 제외하였습니다.\n",
    "- minute 컬럼은 시간대로 예측을 진행하며, 불필요한 변수라고 판단하여 삭제하였습니다."
   ]
  },
  {
   "cell_type": "code",
   "execution_count": null,
   "metadata": {},
   "outputs": [],
   "source": [
    "cannotuse_columns = ['year', 'month', 'area_ppltn_min', 'area_ppltn_max', 'sensible_temp', 'wind_dirct', 'uv_index_lvl', 'pm25', 'pm10', 'air_idx_mvl', 'minute']\n",
    "df = df.drop(columns = cannotuse_columns)\n",
    "df"
   ]
  },
  {
   "attachments": {},
   "cell_type": "markdown",
   "metadata": {},
   "source": [
    "# 범주형 변수 분리"
   ]
  },
  {
   "cell_type": "code",
   "execution_count": null,
   "metadata": {},
   "outputs": [],
   "source": [
    "categorical_features = ['place_id', 'area_congest_id', 'day', 'hour', 'dow']\n",
    "df[categorical_features] = df[categorical_features].astype('category')\n",
    "df.info()"
   ]
  },
  {
   "attachments": {},
   "cell_type": "markdown",
   "metadata": {},
   "source": [
    "# 시각화"
   ]
  },
  {
   "attachments": {},
   "cell_type": "markdown",
   "metadata": {},
   "source": [
    "### place_id\n",
    "대부분 고르게 place_id가 있는 것을 알 수 있습니다. 총 48개의 장소입니다."
   ]
  },
  {
   "cell_type": "code",
   "execution_count": null,
   "metadata": {},
   "outputs": [],
   "source": [
    "plt.figure(figsize=(10, 6))\n",
    "sns.countplot(data=df, x='place_id')\n",
    "plt.xlabel('place_id')\n",
    "plt.ylabel('Count')\n",
    "plt.title('Distribution of place_id')\n",
    "plt.xticks(rotation=45)\n",
    "plt.show()"
   ]
  },
  {
   "attachments": {},
   "cell_type": "markdown",
   "metadata": {},
   "source": [
    "### area_congest_id\n",
    "- 여유인 값이 많은 모습입니다. 확실히 붐비는 때가 적습니다.\n",
    "- 타겟 데이터의 불균형을 해결해야할 것으로 보입니다.\n",
    "- 오버 샘플링 기법(SMOTE), 혹은 가중치를 주는 방식으로 해결할 예정입니다."
   ]
  },
  {
   "cell_type": "code",
   "execution_count": null,
   "metadata": {},
   "outputs": [],
   "source": [
    "# area_congest_id\n",
    "plt.figure(figsize=(10, 6))\n",
    "sns.countplot(data=df, x='area_congest_id')\n",
    "plt.xlabel('area_congest_id')\n",
    "plt.ylabel('Count')\n",
    "plt.title('Distribution of area_congest_id')\n",
    "plt.xticks(rotation=45)\n",
    "plt.show()"
   ]
  },
  {
   "attachments": {},
   "cell_type": "markdown",
   "metadata": {},
   "source": [
    "### temp\n",
    "6월의 데이터만 있어서, 온도가 13도 부근부터 34도 정도까지 있는 것을 볼 수 있습니다."
   ]
  },
  {
   "cell_type": "code",
   "execution_count": null,
   "metadata": {},
   "outputs": [],
   "source": [
    "# temp\n",
    "plt.figure(figsize=(10, 6))\n",
    "sns.histplot(data=df, x='temp', kde=True)\n",
    "plt.xlabel('temp')\n",
    "plt.ylabel('Count')\n",
    "plt.title('Distribution of temp')\n",
    "plt.show()"
   ]
  },
  {
   "attachments": {},
   "cell_type": "markdown",
   "metadata": {},
   "source": [
    "### humidity"
   ]
  },
  {
   "cell_type": "code",
   "execution_count": null,
   "metadata": {},
   "outputs": [],
   "source": [
    "plt.figure(figsize=(10, 6))\n",
    "sns.histplot(data=df, x='humidity', kde=True)\n",
    "plt.xlabel('humidity')\n",
    "plt.ylabel('Count')\n",
    "plt.title('Distribution of humidity')\n",
    "plt.show()"
   ]
  },
  {
   "attachments": {},
   "cell_type": "markdown",
   "metadata": {},
   "source": [
    "# windspeed\n",
    "풍속의 경우에는 데이터가 좌측으로 기울어져있는 것을 알 수 있습니다."
   ]
  },
  {
   "cell_type": "code",
   "execution_count": null,
   "metadata": {},
   "outputs": [],
   "source": [
    "plt.figure(figsize=(10, 6))\n",
    "sns.histplot(data=df, x='wind_spd', kde=True)\n",
    "plt.xlabel('wind_spd')\n",
    "plt.ylabel('Count')\n",
    "plt.title('Distribution of wind_spd')\n",
    "plt.show()"
   ]
  },
  {
   "attachments": {},
   "cell_type": "markdown",
   "metadata": {},
   "source": [
    "# precipitation\n",
    "비가 오지 않는 날이 많아 데이터가 상당히 편중된 것을 알 수 있습니다."
   ]
  },
  {
   "cell_type": "code",
   "execution_count": null,
   "metadata": {},
   "outputs": [],
   "source": [
    "plt.figure(figsize=(10, 6))\n",
    "sns.histplot(data=df, x='precipitation', kde=True)\n",
    "plt.xlabel('precipitation')\n",
    "plt.ylabel('Count')\n",
    "plt.title('Distribution of precipitation')\n",
    "plt.show()"
   ]
  },
  {
   "attachments": {},
   "cell_type": "markdown",
   "metadata": {},
   "source": [
    "### created_date\n",
    "데이터가 계속해서 잘 있다가, 6월 19일 부근부터 몇몇 데이터가 없는 것을 알 수 있습니다."
   ]
  },
  {
   "cell_type": "code",
   "execution_count": null,
   "metadata": {},
   "outputs": [],
   "source": [
    "plt.figure(figsize=(10, 6))\n",
    "df['created_date'].value_counts().sort_index().plot()\n",
    "plt.xlabel('Date')\n",
    "plt.ylabel('Count')\n",
    "plt.title('Distribution of created_date')\n",
    "plt.show()"
   ]
  },
  {
   "attachments": {},
   "cell_type": "markdown",
   "metadata": {},
   "source": [
    "### day"
   ]
  },
  {
   "cell_type": "code",
   "execution_count": null,
   "metadata": {},
   "outputs": [],
   "source": [
    "plt.figure(figsize=(10, 6))\n",
    "sns.countplot(data=df, x='day')\n",
    "plt.xlabel('day')\n",
    "plt.ylabel('Count')\n",
    "plt.title('Distribution of day')\n",
    "plt.xticks(rotation=45)\n",
    "plt.show()"
   ]
  },
  {
   "attachments": {},
   "cell_type": "markdown",
   "metadata": {},
   "source": [
    "# hour\n",
    "0시부터 23시까지 고르게 분포한 것을 볼 수 있습니다."
   ]
  },
  {
   "cell_type": "code",
   "execution_count": null,
   "metadata": {},
   "outputs": [],
   "source": [
    "plt.figure(figsize=(10, 6))\n",
    "sns.countplot(data=df, x='hour')\n",
    "plt.xlabel('hour')\n",
    "plt.ylabel('Count')\n",
    "plt.title('Distribution of hour')\n",
    "plt.xticks(rotation=45)\n",
    "plt.show()"
   ]
  },
  {
   "attachments": {},
   "cell_type": "markdown",
   "metadata": {},
   "source": [
    "# dow\n",
    "현재 데이터에는 일요일이 가장 많습니다.\n",
    "0 : 일요일 ~ 6: 토요일"
   ]
  },
  {
   "cell_type": "code",
   "execution_count": null,
   "metadata": {},
   "outputs": [],
   "source": [
    "plt.figure(figsize=(10, 6))\n",
    "sns.countplot(data=df, x='dow')\n",
    "plt.xlabel('dow')\n",
    "plt.ylabel('Count')\n",
    "plt.title('Distribution of dow')\n",
    "plt.xticks(rotation=45)\n",
    "plt.show()"
   ]
  },
  {
   "attachments": {},
   "cell_type": "markdown",
   "metadata": {},
   "source": [
    "## 연속형 변수 간 타겟변수의 상관관계 시각화\n",
    "- temp와 humidity 간의 다중공선성을 의심할만한 상관관계가 발견 되는 것을 알 수 있습니다\n",
    "- statsmodels을 활용하여 VIF를 확인하였습니다. 해당 VIF는 7.14로 다중공선성이 의심되나 심각한 수준은 아닌 것으로 보입니다.\n",
    "- 모델링 과정에서 유의하여, 모델링 진행할 예정입니다."
   ]
  },
  {
   "cell_type": "code",
   "execution_count": null,
   "metadata": {},
   "outputs": [],
   "source": [
    "plt.figure(figsize=(10, 6))\n",
    "corr_matrix = df[['temp', 'humidity', 'wind_spd', 'precipitation']].corr()\n",
    "sns.heatmap(corr_matrix, annot=True, cmap='coolwarm', square=True)\n",
    "plt.title('Correlation Matrix')\n",
    "plt.show()"
   ]
  },
  {
   "cell_type": "code",
   "execution_count": null,
   "metadata": {},
   "outputs": [],
   "source": [
    "# VIF 계산 함수\n",
    "def calculate_vif(X):\n",
    "    vif = pd.DataFrame()\n",
    "    vif[\"Variable\"] = X.columns\n",
    "    vif[\"VIF\"] = [variance_inflation_factor(X.values, i) for i in range(X.shape[1])]\n",
    "    return vif\n",
    "\n",
    "# 다중공선성 평가\n",
    "variables = ['temp', 'humidity']\n",
    "X = df[variables]\n",
    "\n",
    "vif_result = calculate_vif(X)\n",
    "vif_result"
   ]
  },
  {
   "attachments": {},
   "cell_type": "markdown",
   "metadata": {},
   "source": [
    "# 타겟변수와 범주형 변수간의 상관관계 시각화"
   ]
  },
  {
   "attachments": {},
   "cell_type": "markdown",
   "metadata": {},
   "source": [
    "### place_id\n",
    "특정 지역만 혼잡한 구간이 몰려있는 것을 알 수 있습니다."
   ]
  },
  {
   "cell_type": "code",
   "execution_count": null,
   "metadata": {},
   "outputs": [],
   "source": [
    "plt.figure(figsize=(10, 6))\n",
    "sns.countplot(data=df, x='area_congest_id', hue='place_id')\n",
    "plt.xlabel('area_congest_id')\n",
    "plt.ylabel('Count')\n",
    "plt.title('Relationship between area_congest_id and place_id')\n",
    "plt.xticks(rotation=45)\n",
    "plt.legend(title='place_id')\n",
    "plt.show()"
   ]
  },
  {
   "attachments": {},
   "cell_type": "markdown",
   "metadata": {},
   "source": [
    "# day\n",
    "딱히 상관관계가 보이지 않습니다."
   ]
  },
  {
   "cell_type": "code",
   "execution_count": null,
   "metadata": {},
   "outputs": [],
   "source": [
    "plt.figure(figsize=(10, 6))\n",
    "sns.countplot(data=df, x='area_congest_id', hue='day')\n",
    "plt.xlabel('area_congest_id')\n",
    "plt.ylabel('Count')\n",
    "plt.title('Relationship between area_congest_id and day')\n",
    "plt.xticks(rotation=45)\n",
    "plt.legend(title='day')\n",
    "plt.show()"
   ]
  },
  {
   "attachments": {},
   "cell_type": "markdown",
   "metadata": {},
   "source": [
    "### hour\n",
    "- 18시 ~ 19시 사이에 가장 혼잡해지는 구간이 많은 것으로 보입니다.\n",
    "- 오전부터 서서히 혼잡해지더니, 18~19시에 정점을 찍고, 이후 내려오는 것으로 보입니다."
   ]
  },
  {
   "cell_type": "code",
   "execution_count": null,
   "metadata": {},
   "outputs": [],
   "source": [
    "plt.figure(figsize=(10, 6))\n",
    "sns.countplot(data=df, x='area_congest_id', hue='hour')\n",
    "plt.xlabel('area_congest_id')\n",
    "plt.ylabel('Count')\n",
    "plt.title('Relationship between area_congest_id and hour')\n",
    "plt.xticks(rotation=45)\n",
    "plt.legend(title='hour')\n",
    "plt.show()"
   ]
  },
  {
   "attachments": {},
   "cell_type": "markdown",
   "metadata": {},
   "source": [
    "# dow(요일)\n",
    "- 평일에 금요일로 갈 수록 혼잡한 구간이 늘어납니다.\n",
    "- 주말에는 혼잡한 곳이 다소 완화되는 것으로 보입니다."
   ]
  },
  {
   "cell_type": "code",
   "execution_count": null,
   "metadata": {},
   "outputs": [],
   "source": [
    "plt.figure(figsize=(10, 6))\n",
    "sns.countplot(data=df, x='area_congest_id', hue='dow')\n",
    "plt.xlabel('area_congest_id')\n",
    "plt.ylabel('Count')\n",
    "plt.title('Relationship between area_congest_id and dow')\n",
    "plt.xticks(rotation=45)\n",
    "plt.legend(title='dow')\n",
    "plt.show()"
   ]
  },
  {
   "cell_type": "code",
   "execution_count": null,
   "metadata": {},
   "outputs": [],
   "source": []
  }
 ],
 "metadata": {
  "kernelspec": {
   "display_name": "spotify",
   "language": "python",
   "name": "python3"
  },
  "language_info": {
   "codemirror_mode": {
    "name": "ipython",
    "version": 3
   },
   "file_extension": ".py",
   "mimetype": "text/x-python",
   "name": "python",
   "nbconvert_exporter": "python",
   "pygments_lexer": "ipython3",
   "version": "3.8.16"
  },
  "orig_nbformat": 4
 },
 "nbformat": 4,
 "nbformat_minor": 2
}
