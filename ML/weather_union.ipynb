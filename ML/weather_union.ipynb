{
 "cells": [
  {
   "cell_type": "code",
   "execution_count": null,
   "metadata": {},
   "outputs": [],
   "source": [
    "import pandas as pd\n",
    "import numpy as np\n",
    "\n",
    "# 데이터 불러오기\n",
    "weather_2008_df = pd.read_csv('weather/2008_weather.csv', encoding = 'cp949')\n",
    "weather_2009_df = pd.read_csv('weather/2009_weather.csv', encoding = 'cp949')\n",
    "weather_2010_df = pd.read_csv('weather/2010_weather.csv', encoding = 'cp949')\n",
    "weather_2011_df = pd.read_csv('weather/2011_weather.csv', encoding = 'cp949')\n",
    "weather_2012_df = pd.read_csv('weather/2012_weather.csv', encoding = 'cp949')\n",
    "weather_2013_df = pd.read_csv('weather/2013_weather.csv', encoding = 'cp949')\n",
    "weather_2014_df = pd.read_csv('weather/2014_weather.csv', encoding = 'cp949')\n",
    "weather_2015_df = pd.read_csv('weather/2015_weather.csv', encoding = 'cp949')\n",
    "weather_2016_df = pd.read_csv('weather/2016_weather.csv', encoding = 'cp949')\n",
    "weather_2017_df = pd.read_csv('weather/2017_weather.csv', encoding = 'cp949')\n",
    "weather_2018_df = pd.read_csv('weather/2018_weather.csv', encoding = 'cp949')\n",
    "weather_2019_df = pd.read_csv('weather/2019_weather.csv', encoding = 'cp949')\n",
    "weather_2020_df = pd.read_csv('weather/2020_weather.csv', encoding = 'cp949')\n",
    "weather_2021_df = pd.read_csv('weather/2021_weather.csv', encoding = 'cp949')\n",
    "weather_2022_df = pd.read_csv('weather/2022_weather.csv', encoding = 'cp949')\n",
    "weather_2023_df = pd.read_csv('weather/2023_weather.csv', encoding = 'cp949')"
   ]
  },
  {
   "cell_type": "code",
   "execution_count": null,
   "metadata": {},
   "outputs": [],
   "source": [
    "# 2008~2023 데이터 합치기\n",
    "weather_all_df = pd.concat([weather_2008_df,weather_2009_df,weather_2010_df,weather_2011_df,weather_2012_df,weather_2013_df,weather_2014_df,\n",
    "                           weather_2015_df,weather_2016_df,weather_2017_df,weather_2018_df,weather_2019_df,weather_2020_df,weather_2021_df,\n",
    "                           weather_2022_df,weather_2023_df], ignore_index=True)\n",
    "\n",
    "weather_all_df"
   ]
  },
  {
   "cell_type": "code",
   "execution_count": null,
   "metadata": {},
   "outputs": [],
   "source": [
    "# 결측치 확인\n",
    "weather_all_df.isnull().sum()"
   ]
  },
  {
   "cell_type": "code",
   "execution_count": null,
   "metadata": {},
   "outputs": [],
   "source": [
    "# 기온, 풍속, 습도 결측치는 앞 행에 있는 값으로 대체\n",
    "weather_all_df['기온(°C)'].fillna(method='bfill', inplace=True)\n",
    "weather_all_df['풍속(m/s)'].fillna(method='bfill', inplace=True)\n",
    "weather_all_df['습도(%)'].fillna(method='bfill', inplace=True)"
   ]
  },
  {
   "cell_type": "code",
   "execution_count": null,
   "metadata": {},
   "outputs": [],
   "source": [
    "weather_all_df.isnull().sum()"
   ]
  },
  {
   "cell_type": "code",
   "execution_count": null,
   "metadata": {},
   "outputs": [],
   "source": [
    "weather_all_df.to_csv('weather/2008~2023_weather.csv', index=False, encoding='cp949')"
   ]
  },
  {
   "cell_type": "code",
   "execution_count": null,
   "metadata": {},
   "outputs": [],
   "source": []
  }
 ],
 "metadata": {
  "kernelspec": {
   "display_name": "tf2",
   "language": "python",
   "name": "python3"
  },
  "language_info": {
   "codemirror_mode": {
    "name": "ipython",
    "version": 3
   },
   "file_extension": ".py",
   "mimetype": "text/x-python",
   "name": "python",
   "nbconvert_exporter": "python",
   "pygments_lexer": "ipython3",
   "version": "3.8.16"
  },
  "orig_nbformat": 4
 },
 "nbformat": 4,
 "nbformat_minor": 2
}
